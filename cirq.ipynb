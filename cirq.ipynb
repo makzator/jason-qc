{
 "cells": [
  {
   "cell_type": "code",
   "execution_count": 9,
   "metadata": {},
   "outputs": [],
   "source": [
    "import cirq\n",
    "import numpy as np\n",
    "import sympy"
   ]
  },
  {
   "cell_type": "code",
   "execution_count": null,
   "metadata": {},
   "outputs": [],
   "source": [
    "q = cirq.GridQubit(0, 0)\n",
    "\n",
    "circuit = cirq.Circuit(\n",
    "    cirq.H(q),\n",
    "    cirq.measure(q, key='m')\n",
    ")\n",
    "print(circuit)\n",
    "\n",
    "sim = cirq.Simulator()\n",
    "res = sim.run(circuit, repetitions=100)\n",
    "res"
   ]
  },
  {
   "cell_type": "code",
   "execution_count": 4,
   "metadata": {},
   "outputs": [],
   "source": [
    "qubits = cirq.GridQubit.rect(3,1)\n",
    "circuit = cirq.Circuit() \n",
    "circuit.append(cirq.H(qubits[0]))\n",
    "circuit.append([cirq.CNOT(qubits[0],qubits[1]),cirq.I(qubits[2])])\n",
    "\n",
    "DS = cirq.DensityMatrixSimulator()\n",
    "s = cirq.Simulator()\n",
    "\n",
    "rho = DS.simulate(circuit).final_density_matrix\n",
    "eigvals, eigvecs = np.linalg.eig(rho)\n",
    "\n",
    "wavefunction = s.simulate(circuit).final_state_vector   "
   ]
  },
  {
   "cell_type": "code",
   "execution_count": 5,
   "metadata": {},
   "outputs": [
    {
     "data": {
      "text/plain": [
       "array([0.70710677+0.j, 0.        +0.j, 0.        +0.j, 0.        +0.j,\n",
       "       0.        +0.j, 0.        +0.j, 0.70710677+0.j, 0.        +0.j],\n",
       "      dtype=complex64)"
      ]
     },
     "execution_count": 5,
     "metadata": {},
     "output_type": "execute_result"
    }
   ],
   "source": [
    "wavefunction"
   ]
  },
  {
   "cell_type": "code",
   "execution_count": 10,
   "metadata": {},
   "outputs": [
    {
     "data": {
      "text/latex": [
       "$\\displaystyle \\left[\\begin{matrix}0.499999970197678 & 0 & 0 & 0 & 0 & 0 & 0.499999970197678 & 0\\\\0 & 0 & 0 & 0 & 0 & 0 & 0 & 0\\\\0 & 0 & 0 & 0 & 0 & 0 & 0 & 0\\\\0 & 0 & 0 & 0 & 0 & 0 & 0 & 0\\\\0 & 0 & 0 & 0 & 0 & 0 & 0 & 0\\\\0 & 0 & 0 & 0 & 0 & 0 & 0 & 0\\\\0.499999970197678 & 0 & 0 & 0 & 0 & 0 & 0.499999970197678 & 0\\\\0 & 0 & 0 & 0 & 0 & 0 & 0 & 0\\end{matrix}\\right]$"
      ],
      "text/plain": [
       "Matrix([\n",
       "[0.499999970197678, 0, 0, 0, 0, 0, 0.499999970197678, 0],\n",
       "[                0, 0, 0, 0, 0, 0,                 0, 0],\n",
       "[                0, 0, 0, 0, 0, 0,                 0, 0],\n",
       "[                0, 0, 0, 0, 0, 0,                 0, 0],\n",
       "[                0, 0, 0, 0, 0, 0,                 0, 0],\n",
       "[                0, 0, 0, 0, 0, 0,                 0, 0],\n",
       "[0.499999970197678, 0, 0, 0, 0, 0, 0.499999970197678, 0],\n",
       "[                0, 0, 0, 0, 0, 0,                 0, 0]])"
      ]
     },
     "execution_count": 10,
     "metadata": {},
     "output_type": "execute_result"
    }
   ],
   "source": [
    "sympy.Matrix(rho)"
   ]
  },
  {
   "cell_type": "code",
   "execution_count": null,
   "metadata": {},
   "outputs": [],
   "source": []
  }
 ],
 "metadata": {
  "kernelspec": {
   "display_name": "Python 3.10.5",
   "language": "python",
   "name": "python3"
  },
  "language_info": {
   "codemirror_mode": {
    "name": "ipython",
    "version": 3
   },
   "file_extension": ".py",
   "mimetype": "text/x-python",
   "name": "python",
   "nbconvert_exporter": "python",
   "pygments_lexer": "ipython3",
   "version": "3.10.5"
  },
  "vscode": {
   "interpreter": {
    "hash": "4052f8a41a31fc5cbd2e3526dbc8abbffa51b82c1f3d5451a58f494cdae71e31"
   }
  }
 },
 "nbformat": 4,
 "nbformat_minor": 4
}
