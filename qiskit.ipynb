{
 "cells": [
  {
   "cell_type": "code",
   "execution_count": null,
   "metadata": {},
   "outputs": [],
   "source": [
    "import numpy as np\n",
    "from qiskit import *\n",
    "from qiskit import Aer\n",
    "from qc_utils.gates import *\n",
    "\n",
    "from qiskit import QuantumCircuit, Aer, execute\n",
    "from qiskit.quantum_info import Operator\n",
    "from qiskit.circuit.library import ZGate,XGate,PhaseGate\n",
    "\n",
    "import sympy\n",
    "\n",
    "#Changing the simulator \n",
    "backend = Aer.get_backend('unitary_simulator')\n",
    "\n",
    "#The circuit without measurement\n",
    "circ = QuantumCircuit(3)\n",
    "circ.h([0,1,2])\n",
    "circ.cnot(0,1)\n",
    "circ.swap(1,2)\n",
    "circ.draw()"
   ]
  },
  {
   "cell_type": "code",
   "execution_count": null,
   "metadata": {},
   "outputs": [],
   "source": [
    "#job execution and getting the result as an object\n",
    "job = execute(circ, backend)\n",
    "result = job.result()\n",
    "\n",
    "#get the unitary matrix from the result object\n",
    "print(result.get_unitary(circ, decimals=3))"
   ]
  },
  {
   "cell_type": "code",
   "execution_count": null,
   "metadata": {},
   "outputs": [],
   "source": [
    "circ.decompose().draw()"
   ]
  },
  {
   "cell_type": "code",
   "execution_count": null,
   "metadata": {},
   "outputs": [],
   "source": [
    "qc = QuantumCircuit(2)\n",
    "qc.unitary([[1,0,0,0],[0,1,0,0],[0,0,0,1],[0,0,1,0]], [0,1])\n",
    "qc.draw()"
   ]
  },
  {
   "cell_type": "code",
   "execution_count": null,
   "metadata": {},
   "outputs": [],
   "source": [
    "pauli_basis(2)"
   ]
  },
  {
   "cell_type": "code",
   "execution_count": null,
   "metadata": {},
   "outputs": [],
   "source": [
    "\n",
    "\n",
    "qs = QuantumRegister(3, 'q')\n",
    "#anc = QuantumRegister(1, 'a')\n",
    "#qc = QuantumCircuit(qs, anc)\n",
    "qc = QuantumCircuit(qs)\n",
    "cu = Operator(random_u(1)).to_instruction().control(1)\n",
    "cccu = Operator(random_u(1)).to_instruction().control(2)\n",
    "cz = ZGate().control(1)\n",
    "czz = Operator(np.kron(Z,Z)).to_instruction().control(1)\n",
    "ccz = ZGate().control(2)\n",
    "ccx = XGate().control(1)\n",
    "cccx = XGate().control(2)\n",
    "ccp = PhaseGate(np.pi/3).control(2)\n",
    "\n",
    "qc.append(cccu, range(3))\n",
    "\n",
    "#qc.x(0)\n",
    "#qc.u(np.pi/4, 0, 0, [0,1])\n",
    "#qc.append(ccx, range(3))\n",
    "#qc.x(0)\n",
    "#qc.unitary(u3(np.pi/4, 0, 0).conjugate().transpose(), [0,1])\n",
    "display(qc.draw())\n",
    "backend = Aer.get_backend('unitary_simulator')\n",
    "job = execute(qc, backend)\n",
    "result = job.result()\n",
    "u = result.get_unitary(qc, decimals=3)\n",
    "display(sympy.Matrix(u))"
   ]
  },
  {
   "cell_type": "code",
   "execution_count": null,
   "metadata": {},
   "outputs": [],
   "source": [
    "qs = QuantumRegister(3, 'q')\n",
    "anc = AncillaRegister(1, 'a')\n",
    "qc = QuantumCircuit(qs, anc)\n",
    "#qc.initialize(1, [anc[0]])\n",
    "qc.toffoli(qs[0],qs[1],anc[0])\n",
    "#qc.append(cccx, [qs[0],qs[1],anc[0]])\n",
    "qc.append(cu, [anc[0], qs[2]])\n",
    "#qc.append(cccx, [qs[0],qs[1],anc[0]])\n",
    "qc.toffoli(qs[0],qs[1],anc[0])\n",
    "display(qc.draw())\n",
    "backend = Aer.get_backend('unitary_simulator')\n",
    "job = execute(qc, backend)\n",
    "result = job.result()\n",
    "u = result.get_unitary(qc, decimals=3)\n",
    "display(sympy.Matrix(u))"
   ]
  },
  {
   "cell_type": "code",
   "execution_count": null,
   "metadata": {},
   "outputs": [],
   "source": [
    "from utils.gates_sympy import *\n",
    "qc.draw\n",
    "A = Matrix([[1,0],[0,exp(1j*a/2)]])\n",
    "B = Matrix([[exp(1j*a/2),0],[0,1]])\n",
    "Matrix([[exp(-1j*a),0],[0,exp(-1j*a)]])@X@A@X@B"
   ]
  },
  {
   "cell_type": "code",
   "execution_count": null,
   "metadata": {},
   "outputs": [],
   "source": [
    "X@p(a/2)@X@p(-a/2)"
   ]
  },
  {
   "cell_type": "code",
   "execution_count": null,
   "metadata": {},
   "outputs": [],
   "source": [
    "u3(a,0,0)"
   ]
  },
  {
   "cell_type": "code",
   "execution_count": null,
   "metadata": {},
   "outputs": [],
   "source": [
    "m = Matrix([[exp(1j*a/2), exp(1j*a/2)], [exp(1j*a/2), exp(1j*a/2)]])\n",
    "X@m@X@rz(a)"
   ]
  },
  {
   "cell_type": "code",
   "execution_count": null,
   "metadata": {},
   "outputs": [],
   "source": [
    "m@rz(a)"
   ]
  },
  {
   "cell_type": "code",
   "execution_count": null,
   "metadata": {},
   "outputs": [],
   "source": [
    "import matplotlib.pyplot as plt\n",
    "plt.plot([2,3,4,5], [3,7,15,31])\n",
    "plt.show()"
   ]
  },
  {
   "cell_type": "code",
   "execution_count": null,
   "metadata": {},
   "outputs": [],
   "source": [
    "from utils.gates import *\n",
    "print(ry(np.pi/3))\n",
    "print(zy(ry(np.pi/3)))\n",
    "print(zy_mat(0, 0, 0, np.pi/3))"
   ]
  },
  {
   "cell_type": "code",
   "execution_count": null,
   "metadata": {},
   "outputs": [],
   "source": [
    "th = np.pi/3\n",
    "th2 = np.pi/8\n",
    "qc1 = QuantumCircuit(2)\n",
    "qc1.crz(th, 0, 1)\n",
    "qc1.x(0)\n",
    "qc1.crz(th2, 0, 1)\n",
    "qc1.x(0)\n",
    "display(qc1.draw())\n",
    "\n",
    "qc2 = QuantumCircuit(2)\n",
    "qc2.rz(th/2, 1)\n",
    "qc2.cnot(0,1)\n",
    "qc2.rz(-th/2, 1)\n",
    "qc2.cnot(0,1)\n",
    "qc2.rz(th2/2, 1)\n",
    "qc2.cnot(0,1)\n",
    "qc2.rz(-th2/2, 1)\n",
    "qc2.cnot(0,1)\n",
    "display(qc2.draw())\n",
    "transpile(qc2, basis_gates=['u3', 'cx'], optimization_level=3).draw()"
   ]
  },
  {
   "cell_type": "code",
   "execution_count": null,
   "metadata": {},
   "outputs": [],
   "source": [
    "X @ rz(-np.pi/6) @ X @ rz(np.pi/6)"
   ]
  },
  {
   "cell_type": "code",
   "execution_count": null,
   "metadata": {},
   "outputs": [],
   "source": [
    "rz(np.pi)"
   ]
  },
  {
   "cell_type": "code",
   "execution_count": null,
   "metadata": {},
   "outputs": [],
   "source": [
    "np.exp(-1j*np.pi/2)"
   ]
  },
  {
   "cell_type": "code",
   "execution_count": null,
   "metadata": {},
   "outputs": [],
   "source": [
    "rot((X+Z)/np.sqrt(2), np.pi/2)"
   ]
  },
  {
   "cell_type": "code",
   "execution_count": null,
   "metadata": {},
   "outputs": [],
   "source": [
    "sympy.Matrix(np.kron(H, i2) @ CNOT @ np.kron(H, i2))"
   ]
  },
  {
   "cell_type": "code",
   "execution_count": null,
   "metadata": {},
   "outputs": [],
   "source": [
    "ry(np.pi/3)"
   ]
  },
  {
   "cell_type": "code",
   "execution_count": null,
   "metadata": {},
   "outputs": [],
   "source": [
    "np.kron(rz(np.pi/3), i2)"
   ]
  },
  {
   "cell_type": "code",
   "execution_count": null,
   "metadata": {},
   "outputs": [],
   "source": [
    "from utils.gates_sympy import *\n",
    "from sympy.physics.quantum import TensorProduct, Dagger\n",
    "TensorProduct(p(a),i2) @ CZ# @ TensorProduct(rz(b), i2)"
   ]
  },
  {
   "cell_type": "code",
   "execution_count": null,
   "metadata": {},
   "outputs": [],
   "source": [
    "mat.subs({c:0})"
   ]
  },
  {
   "cell_type": "code",
   "execution_count": null,
   "metadata": {},
   "outputs": [],
   "source": [
    "TensorProduct(p(a),i2,i2) @ TensorProduct(i2,p(b),i2)"
   ]
  },
  {
   "cell_type": "code",
   "execution_count": null,
   "metadata": {},
   "outputs": [],
   "source": [
    "u = np.zeros((2,2), complex)\n",
    "u[0,0] = np.exp(1j*np.random.random() * 2 * np.pi)\n",
    "u[1,1] = np.exp(1j*np.random.random() * 2 * np.pi)\n",
    "ABC(u)"
   ]
  },
  {
   "cell_type": "code",
   "execution_count": null,
   "metadata": {},
   "outputs": [],
   "source": [
    "from qiskit_nature.circuit.library import UCC\n",
    "uccsd = UCC(excitations='sd', alpha_spin=True, beta_spin=True, max_spin_excitation=None)"
   ]
  },
  {
   "cell_type": "code",
   "execution_count": null,
   "metadata": {},
   "outputs": [],
   "source": [
    "qc = QuantumCircuit(2)\n",
    "qc.cp(np.pi/8, 0, 1)\n",
    "transpile(qc, basis_gates=['u3', 'cx'], optimization_level=3).draw()"
   ]
  },
  {
   "cell_type": "code",
   "execution_count": null,
   "metadata": {},
   "outputs": [],
   "source": [
    "import scipy\n",
    "scipy.linalg.fractional_matrix_power(CZ, 1/2)"
   ]
  },
  {
   "cell_type": "code",
   "execution_count": null,
   "metadata": {},
   "outputs": [],
   "source": []
  }
 ],
 "metadata": {
  "kernelspec": {
   "display_name": "Python 3.10.5 ('qc')",
   "language": "python",
   "name": "python3"
  },
  "language_info": {
   "codemirror_mode": {
    "name": "ipython",
    "version": 3
   },
   "file_extension": ".py",
   "mimetype": "text/x-python",
   "name": "python",
   "nbconvert_exporter": "python",
   "pygments_lexer": "ipython3",
   "version": "3.10.5"
  },
  "orig_nbformat": 4,
  "vscode": {
   "interpreter": {
    "hash": "4052f8a41a31fc5cbd2e3526dbc8abbffa51b82c1f3d5451a58f494cdae71e31"
   }
  }
 },
 "nbformat": 4,
 "nbformat_minor": 2
}
